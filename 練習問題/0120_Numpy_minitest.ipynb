{
  "nbformat": 4,
  "nbformat_minor": 0,
  "metadata": {
    "colab": {
      "name": "1118_Numpy_minitest_ans.ipynb",
      "provenance": [],
      "collapsed_sections": []
    },
    "kernelspec": {
      "name": "python3",
      "display_name": "Python 3"
    },
    "language_info": {
      "name": "python"
    }
  },
  "cells": [
    {
      "cell_type": "markdown",
      "source": [
        "Numpy ミニテスト２回目\n",
        "\n",
        "以下の出力例のとおりデータを作成・出力するプログラムをコメントに従って実装してください。\n",
        "\n",
        "▼出力例\n",
        "\n",
        "![1118.png](data:image/png;base64,iVBORw0KGgoAAAANSUhEUgAAAOwAAAF4CAIAAADYMYKiAAAAAXNSR0IArs4c6QAAAARnQU1BAACxjwv8YQUAAAAJcEhZcwAADsMAAA7DAcdvqGQAABlLSURBVHhe7ZrdkeTIboXXhOuCPLiPMkcmyINrkh71KkMUIVNWKALEoDKRIJj8aYJ9vpjoQJ4ETrJYZ2pZ0/vX3wAUByEG5UGIQXkQYlAehBiUByEG5UGIQXkQYlAehBiUByEG5RmG+N++gSiLlZtFEIBPYlAehBiUByEG5UGIQXkQYlAehBiUByEG5UGIQXkQYlAehBiUZyPE8qvP719+ioTfiO5E7hru29lsh1gqQ/A26NbnvTKw6CIdK4E4QppMm6xXRB0gTYO2kd7jdvZi3hAkOTPEpOvWqCfGnYqt7O7E6e64QkovuridI1EqcBIIsTOukNKLLm7nSJQKnMRpIWZRtybeqvxZIyZODzp5K2Pldo7GM4ZgFxeGWGFlE7czP05o8+fUFVZGcIPbqVu8DHA7R+MZQ7CLc0KsSl8QrkmP25aZpR5G1ntOX+akwXa6osve8U1DsJerQmxJvm1HZpkJB7vr1vE44XYG45uGYC8nhJiWDbKx0is9bk9m0DJhYne1pqKB9R7ZNoxEpVmC45z2TMzolu3JvG17D1Lcg1zRZbMzHrckx/OGIAlCvNEZj1uS43lDkOSqEBNUM7IOcdvys4ysF0RKOEjfoHOk97idvZg3BEm2Q8zIekEkvBk7kbuG+3Y2GyEG4PkgxKA8CDEoD0IMyoMQg/LMhFi+Y+Nb9k7kruGfes5mMsRSGfJiz+c9XJD1gkgJB+kbdI70GDYkZD1AmlZEDcfzIkhyTog/b1dO7LE9WruiS9xJSi9uYkficXc3Ht8cAXv5+U9i26O1K7rEnaT04iZ2JB53d+PxzRGwl1eFuIG34vFNJk4/fQTEPDTEyqYDN9DPvlO3eDlHPP45dUUkc64VlbwIkjz3ix3jihY7aJtdMc/HdEHWA2yD1svc8PReIVwRJHn0J/GRca0zJgH5cffEftw1zJ8Cep4b4sws4Y5Q0cD6BPlZ7bQj/bhrmD8F9LwzxJakjyV/GW5nPO4auiJI8tAQZwYZd9ySt1I2PRW3Mx53DV0RJHnoFztZr4g6QJoGbSM9hg0JWY+Rvu9OkbzxvAiSTIaYkTXIIXctHXeQZCbEADwKhBiUByEG5UGIQXkQYlAehBiUByEG5UGIQXkQYlAehBiUZxhi+WXoCkRZrNwsggB8EoPyIMSgPAgxKA9CDMqDEIPyIMSgPAgxKA9CDMqDEIPyIMSgPBshll99fv/yUyT8RvSpyNvza96g7RBLZcjcneUe/kHUw/dXhr/HRTrPU9YroqaRsZVA3IVMfs+K5Bm64iu5MMRSGaw4cYvd8Ss8LQc9Xc66TldUJk4pCkK8MX7Q0+Ws63RFZeKUovxYiCfY9Dzdf84wnjruqbUrKnMHVeSOZ2KR1sFGzBOPu+Iueoc5z8/1rYhkcMVN7JTWrqjMHVSRE0JMS4uKXBBWtDUXeeLxXmlYpv8gqtFlbXBFCw8qKnJB2JrplYaPkUFFLXqRsDXTK2/lqk9ii/bbwYlbHIxPuPX0JsdtT/SkQZ5VBy0IWzO98lbeEOIJK5fG5xTbSz2tW+98ylkluOOLndaumGc0PmGlBD7Ttrd5BgcR02eVo3yIJ3wswSVNO9/mGRxETJ9VjgsfJ6iNkfWCSLP3V4bNuKxXRN2DTHazvZKHDQlZr/RKHjYkZL0gkmfriq9kO8SMrBdE+jX3qBzy9iDEAFQBIQblQYhBeRBiUB6EGJRnJsTy1Rf/OvFU5O35Nf+mNBliqbboO5fb+EHWZyCOs54ybMZlvSLqHmTye1akw69dHdhNYVHpFcIVq3NhiD/39bvTLputaQ56bo6f5bl5UBKa1fHYx92NR4py6yexXZ51Nw96bo6f5bl5UBKa1fHYx92NR4ry20Ns6cfnDN1LcsW98KDr2ePuTh/9ZBDiP/Tjc4buJbniXnjQeiqsWPJidU4I8ecWGkRdGC2XxnPupvWJPZcz/yCq0WVtcEULDyoqaqE1wUtC1gOkaUXUb9umIGzN9ArhitW59ZOYIIXFfmsO63PQsx+fNqRBnlUHLQhb53GtlF5Mtr2Au0OsnHU3rc9Bz2b8lCtUk4PXSSMNsrGSUQhXrM5vfyYOxqev0PUMDtpL0tM95eDRzwQhHo5PX6HrGRy0l6Sne8rBo5/JzzwTE7I+A3Gc9ZRh71Kl2g8bErJeEOnwa7cObEjI2pAXqzMZYkbW4GHI2/P9BomEEAPwQBBiUB6EGJQHIQblQYhBeRBiUB6EGJQHIQblQYhBeRBiUJ5hiOV3lCsQZbFyswgC8EkMyoMQg/IgxKA8CDEoD0IMyvPEEP/nf/3vv/77//76z/+hP1Q8tpbLBT/NE0NcIh8UZanAT4MQT4IQP4cnhrhEPvA48RwQ4kkQ4ueAx4lJ8DjxHDZCLL+///4NvkiX/VofIT6IvD2/5v+72A6xVIa9d0f7P/fVwGLPKB8ythKIu5BJMyvrFVG/if+myeRgdqQnccd78eAphbg8xNSs/cnBzIeca5X0t9iRXdcZhNj1VEjpxTzu+EiU6u08McSZxwnXKulvsSO7rjP4m+Z6KqT0Yh53fCRK9XauDTF3an9ycDPEB69qxK7rTIa4gbemL9UdH3lOn1KOu0OssOKy+TjhjseeGdThc30rrPRsPk6447rFy7244yPP6VPKcWGIta0viMDk5hDTICPr3HXGIdYpO+6KefZ6zp1SkVtDbAlMfvxxwjKynXgm1nrkGeOOB55zp1TkqhBTT4NsrPSKEofYHQzc8uxy3htiKhpYTyIzhpGoNMsXc+0zMaP9djAwiR8nTrkkxb0kV2zYfCZm3PGRZ5Kk58FTCoEQO5fkig0I8XO4NcQE1YysPW5+nFgu54OsF0Qa227+TWNk/c1IT+KO9+LBUwqxHWJG1gsiXXaPNr/YPYE4xD+LvD0I8Q/y5HwoJf6m/RIQ4kkQ4ufwxBDjcQLsAiGeBCF+DjMhlm8Nl31vwOPEQeTtwRe7gPzdcTs3x4MQf96ZBVkviDT7nsnwYHykT4SYTyFkvQeZXBE19HTFV3JhiJd723a6YsMoH3ZQa1fME4+T0ovM3v9cWJ+RZ4A7EntOnFKUJ34SI8Q97kjsOXFKUSo9TthBrV0xTzDCW6OGI8/EZ11n7DNxSlHKh1jJX5WFp+hnP65bvGy4P8SKSOYKrai44iup9DhB0Cwja4MrbmLdrIMrWvY+ThCfkxZkvQc7pfViNrzOXnkr5Z+JmfwlNYw8tR45T4RYmb5axr223vPgKYV4w+NE/np6XB8qGli33Pw4YdFx69N7HjylEAjxhs/IfG+ID16wOx57TpxSlPKPE/mLcXE9LSP/vY8TmwfFuOOx58QpRSn/xU7WK6LuQSYHsyP95i92hAx/j4vkebriK5kMMSPrsznynek2jjwTX428PQjxD4IQg108McSSj3/+8++//nrsn3/9+380ytE/9HrBFA8OMb2vD+b8/1w8+/U+mQc/Tjz7TT3/cQIhnmXmxsm3hqu/2CHEs8jbgy92AZm7wzdRETV3f4PHCRn+Hhdp9j2TYe8iGVG/CR4nZGwlEL/YCrFMfs+K5Bm64iu5MMRSGawYmIxC7I4nPUdsjo884xBLNcBvCEPsXqcrKv4pb+SJIR49TrjjSc8Rm+Mjz+BxYvMy/AaEeJYfC3FAJsSKFZP+I/rxwHA6xMNdhHiWC0OsiLQONmJP/DgxGnfFXfQOgWfymVgkgyt+QIhnOSHEtLSoyAVhRVtz0ROEOBjvlYZl+g+iGl3WBldkOMQ8qPCWFoStmV4R1tf7MTKoqEUvErZmeuWtnBDiTZI3Xdn1TMwEbnl6k8A2eJyw7PAMP4kJGuRZddCCsDXTK2/lDSEOrHbR+MS2cyGOPLdCrKiJdeudo7PexVUhdu+vK/bEz8RM0mqTwCe2jZ+JpdrlGYbY9QwOIqKz3kX5EAc+GYJLip0R4udwVYgJamNkvSBS6DB6nCBk2IzLekXUPchkN9srlvhxgg0JWa/0yh/CEBNsSMh6QSTP1hVfyWSIGVmfTRDi55B8Jt7Bea9X3h6E+AcZPU48iuBxYpJnv94ngxBPghA/hyfeODxOgF0gxJMgxM/hiTcOjxNgFzM3Tr76XvblFyE+iLw932+QSG/8J4vJEEu1Rd+53MYPsvbY+zghjrNvjwybcVmviPpN/Dghk9+zIo2uc8/r1cLCotIrhCtW58IQf+7rd6ddNluWXSFOeo7YHB95BiF2PTcPyr9eHfd9VtzdeKQoF4aYaDrtMjDZ9TiR9ByxOT7yDB4nXM/NgxDiaX57iC39eGD4IyHmQdezx92NR4ryxBDf+Thh6ccDwx95nOBB66mwYsmL1TkhxJ9baBB1YbRcGod386IQL2f+QVSjy9rgigyHmAcV3rKF1gQvCVk3rK9XmlZYJLTuC8LWTK8QrlidE0Ic4N5ZFvstpfrjBEGDPKsOWhC2/sPW63WtlF5Mtr2Au0OsBFsPCXHsFodYUZPt6wxfL400yMZKRiFcsTq3htguA5M7n4mD8djtR56JmaSne4p/dHEQ4uF47IYQP4dbQ0yQwsjaY9fjBCGOs2+PDHuXKpVH5pmYkPWCSCPb/SEm2JCQtSEvVmcyxIysz2ZviH+E5DPxDs57vfL2fL9BIiHE97DrceKnCB4nJnn2630yCPEkCPFzeOKNw+ME2AVCPAlC/ByeeOPwOAF28eAQ/+Mfn/f1qX8+Ie7EQ3/o9YIpnhji8z/kLuD8xwkwC0I8CUL8HB76OEF/KMr058m1XC74afBlApRnGGL5HeUKRFms3CyCAHwSg/IgxKA8CDEoD0IMyoMQg/IgxKA8CDEoD0IMyoMQg/IgxKA8O0J86a9AXfNeDK5h1+XZ5l2Dm8RXqIi00Czfx9UvMArxcrcjpC99lTyl9AqjzVwwvGWRjZVG4R5F1BWr9LvKMvqFbAzghs22hr5/5JB0pjZG1t9YndsIWeeQmQ7Z7gi2TuGcT+JdV2mbtW6Kka5Yvcc2ELYmmiXRK4SKgZUlbiOlQTYGzVJ9M9Itm84q2l1buyxzgkhj/xhpPY+NEMuxHtKx0CwVV7ei1lz0W7ahgXXCrfuCaZZK0JZx6EW3zSWepbpH9jzsbt+5TItod22dpBkJHCbMd3H5J3G/ZRWtXQe3kxktg4JophrcEaKf2mxgrE61pVcYbeaiYaRbbE/Tz0sVM24j+lMCtyMHZRiGmA7OoM1c9DRby9CHZqmwTmjNhd0i3KUVA2WE7fkMrDRLQhUquOaiwTYE9A2jkU0ry8hWdV2qkqTpH40vxoJI17D9SdxfQUax2F2uVXGXXFh6hXA7Gda1gYuGRrfLYIsZeQbQiEXUhWZJ9Aoz0l1Gp9iiFzNkmm3PLvMJUiHukb2VXrHo7jL6qa3SL5Vmlxk1N9hdt3NkSwRbjGs4Td4/f27g2RdE3pnINE+bT/DQT2LG6oyK/JNZdv6gIheErZVGHPUnZ0dIR9cj6kKzJPoGRaSQvo1nLSzyLmHrTTLN2kNFpv8I53wSEywGW0zTZgutCa7tT7tUhbFLrV1R2VRcHyajMFYf1URs2NR2OSLu0V3blrFVks3Uxp3J/mnO+SQmkpdr22wz1c3S/dkvCbceNTBJJdNGuCJh9VFN9OPxYN9viXcJbeid8+zq32u+l9NCTGSulXoYrlV0i14nRs1MI9JPVZSM0rDYfJD1Nxl9VBP9eN/AyDpEWldENViRewhZ70Emt2Y3G46zO8TLZZ95Wb2/VN7r/5w9EBUVubDYBqZXJmATF+kYXCTTLF9D/0ovYjvEADwchBiUByEG5UGIQXkQYlCejRDzF0xC1gsiPfs7tVziS7/4A8t2iKUyZJKx5OcPgbgLmTSzsl4RdaVXwPu4KsSWU0wIO6J17DNxCigHQgzKc3mIjzu4qENsdfwg8HzeEGKFFYsrgpdRLMQ0yMj628rWTK+A91H+k9jSi8cPAs/n2hAfHA9IOp9yFng4lUJsB7V2RWX6LFAIhBiUp9jjBM0ysl4Q6eyzQBW2Q8zIekGkZ+dDLhEh/gVshBiA54MQg/IgxKA8CDEoz0yI5RsTvtiBZzAZYqlCOEOErBdEms2WDA/Ge33UCd7EVSG2PVq7Yp54nBRXlAq8F4QYlKdqiBt4q2+YOAWU49YQK3PZ4in62Y/rFi+VXgHv4+4vdowrbmLdrIMrMr0C3scPfBJPB2vkqXXvPH0WKMTdIT6SKteHigbWmWYJXkn5EFt68chxoAq3hvhgpFxPSy8ePBGU4NYvdrJeEXUPMjmY7fVRJ3gTkyFmZP1I5BIR4l/ATIgBeBQIMSgPQgzKgxCD8uCLHSjPZIilCuEMEbJeEGk2WzJsxmW9IupKr4D3cVWIbY/Wrphnc7wXJ04B5UCIQXnuCLFixYPx6sc3TwRv5doQ00+32RV30TtcdBB4PheGWNv6/l5pWKb/IKrRZW3Ii+Bl3PpMzJwSrN7EtT3lLPBw7g7xWalqfEa2Zx0HnkylEAc+I9sjx4Eq3Brig5FyPZmR88ETQQmuCjFBbYysjcKIugeZ7GZ7hRnp4E1MhpiR9SORS0SIfwEzIQbgUSDEoDwIMSgPQgzKgxCD8syEWL72F/zXCZHwTxbvYjLEUu2HM0TIeicybMZlvSLqSq8QrgjqcmuI7eCEyeZ4LybbQGkQYlCeSiG29OOuYV4EdUGIQXkeGmLatYhqdFkbDoqgLvgkBuV5SYhHbq5+8GjwNCqFOBgfubn6xNHgySDEoDy3hpigWUbWO5HhbrxXGFcfNYOiTIaYkfUjkUv8vkiREOJ3MRNiAB4FQgzKgxCD8iDEoDwIMSgPQgzKgxCD8iDEoDwIMSgPQgzKMwyx/H52BaIsVm4WQQA+iUF5EGJQHoQYlAchBuVBiEF5EGJQHoQYlAchBuVBiEF5EGJQnh0hPutXoL3PyDnfSey6PNu8a9CFHEZIh0e8S/QNmyPVmXuB54R419m2mWqLqAv9skE2VhqFexRRV6zS7yrL6Bey8c1enYl3ib4hozCb5gE0y8h6QaSdtjLTIdsdwVZAFGI+L0D60mfzlCLqOt4rbsFYvcc2ELYmmiXRK4SKgRVD4gjp8EjuLjYOustFw0jfxA66p2w6U4MikjfFDTHSusW1n8Su3oi6dHW728A64dZ9wTRLJWjbdEh6NkzsxkdT3SN7aeyI1q6YpxkJHCbMicsfJ/qtRtElF3Z3VBOjZVAQzVSDO0L0U7YzAzcTmZr4zJgjVFF4i7C1ZaRv4ppnThzRzwYOe82ZYYjJLoM2c9HTbC1DH3TJBcE6oUtb6JJxl1YMlBG25zOw0iwJq2jdt/W4g0zjM1oSo9oy0jdxzTMnujTNo1nSFZH2kP0kVnf3mPhsu0s1L61I9EtLrxBuJ8O6NnDR0Oh2GWwxTbPSLBluI2xNJJdc0E8LbxG2tox0y+L0BxW10JrgJSHrHJl+27PXn9kIsZoGBRGf3Yy4zYHYbOnSHVHsrts5siWCLcZt7gtiVBPNknCbuXC3CFtbRnoGmuVxNdGCsPUmmeZpc+WHQ0x1j+x9DzIq8k9m2fmDilwQtlYacdS/OUu1ogoXhCsysdIM0k8LbxG2JniXEekAamLddjlnmu0pmf6eKMTWnQsirq2iNGK+x/60S1UYu9TaFZVNxfVhMp1c97OW5G5vlaztMk9j0hTELttkM7VxZ7K/IfpiJ9We2ioj3J5GtG72Z78k3HrUwCSVfBsj0kKz7IkbdJcL+mnhLSKurZLENXTFJLv695oz21/sGt/gmOQVuG3uKSra3V4MdumnKkpGaVhsPsh6xYp2l2ur9CR3d5nQkpH1FGJxnrNMbs1uNozIPhMzy5VMnqS4Dknxc/xAVFTkwmIbmF6Zhn0aw2bJsEjI2kN3ubOHd9/BwVe0/UkMwMNBiEF5EGJQHoQYlAchBuXZCDF/bSRkvSDSu74gZ5CX/fte+MPZDrFUhuS7uLzdH2S9INJsDmTYjMt6RdQ0MrYSiEqvgJ/lqhDbHq1dMc/m+EFPl75h4hRwKQjxxkjfMHEKuJQ7QqxY8WAU+vE5w3jK3T145eB0rg0x/XSbXXEXvcOc5+f6VkQy5EXwg1wYYm3r+3ulYZn+g6hGl7XBFS08qKjIBWFrplcIVwQ/yK3PxMwpIehNjtsmPU+5fnAid4f4rAQ0PqfYJj3PegngLCqFOPCZtp3wnD4LXMStIT749ruezLTzhOf0WeAirgoxQW2MrI3CiLoHmexmeyUPGxKyXukVZqSDn2I7xIysF0T6fe+lvGyE+GFshBiA54MQg/IgxKA8CDEoz0yI5dsNvtgtiIRvez/HZIil2g+/34SsdyLDZlzWK6LuQSa/Z0XyDPMiuIdbQ2wHJ0w2x8/yjA9yT3FFcA8IseMZH+Se4orgHiqF2NKPzxm6l+SKinuQK4J7QIidS3JFxT3IFcE9PDTEtGsR1eiyNriihQcVFbXQmuAlIWtDXgT38Ns/iQka5Fl10IKwNdMrhCuCe3hJiE/JkJrE1+medcoFgDkqhTgYP/eSgoMI9yxXBPeAEDuewUGEe5Yrgnu4NcQEzTKy3okM54KVhA0JWS+I5NnmRXAPkyFmZP1rkJedjju4h5kQA/AoEGJQHoQYlAchBuVBiEF5EGJQHoQYlAchBuVBiEF5EGJQHoQYlAchBsX5++//B5KKj2QMfA6eAAAAAElFTkSuQmCC)"
      ],
      "metadata": {
        "id": "opcy9MXc4jQx"
      }
    },
    {
      "cell_type": "code",
      "execution_count": 39,
      "metadata": {
        "colab": {
          "base_uri": "https://localhost:8080/"
        },
        "id": "Leeoo2rOjxpe",
        "outputId": "6000c84a-be40-454e-c28e-d3a3fc7fcd13"
      },
      "outputs": [
        {
          "output_type": "stream",
          "name": "stdout",
          "text": [
            "-------------------\n",
            "[[45 77 35 64 44]\n",
            " [11 82 64  3 56]]\n",
            "-------------------\n",
            "[[-56  62 -37 -57 -90]\n",
            " [-19   0 -37 -98 -45]]\n",
            "-------------------\n",
            "[[ 45  77  35  64  44]\n",
            " [ 11  82  64   3  56]\n",
            " [-56  62 -37 -57 -90]\n",
            " [-19   0 -37 -98 -45]]\n",
            "-------------------\n",
            "青い破線部分の合計は 246 です\n",
            "[[ 77  35]\n",
            " [ 82  64]\n",
            " [ 62 -37]\n",
            " [  0 -37]]\n",
            "-------------------\n",
            "赤い枠線部分の最小値は -98 です\n",
            "[[ 62 -37 -57]\n",
            " [  0 -37 -98]]\n"
          ]
        }
      ],
      "source": [
        "import numpy as np\n",
        "\n",
        "line = '-------------------'\n",
        "print(line)\n",
        "\n",
        "# ①乱数シード値は以降すべて156に設定すること\n",
        "np.random.seed(156)\n",
        "\n",
        "# ②1以上、100未満の一様分布の乱数を10個発生させて、2行5列の行列を生成し変数m1に代入する\n",
        "m1 = np.random.randint(1,100,(2, 5))\n",
        "\n",
        "# ③シード値の設定（156とすること）\n",
        "np.random.seed(156)\n",
        "\n",
        "# ④-100 以上、100未満の一様分布の乱数を10個発生させて、2行5列の行列を生成し変数m2に代入する\n",
        "m2 = np.random.randint(-100,100,(2, 5))\n",
        "\n",
        "# m1、m2をそれぞれprintで表示する\n",
        "print(m1)\n",
        "print(line)\n",
        "print(m2)\n",
        "print(line)\n",
        "# ⑤ concatenate関数を使って、m1とm2を行方向に連結し、m3に代入する\n",
        "m3 = np.concatenate([m1,m2], axis=0)\n",
        "\n",
        "# m3をprintで表示する\n",
        "print(m3)\n",
        "print(line)\n",
        "\n",
        "# ⑥出力例の図の青い破線部分をスライスで取り出して該当箇所の合計値を求める\n",
        "blue = m3[:,1:3]\n",
        "print('青い破線部分の合計は',blue.sum(), 'です')\n",
        "print(blue)\n",
        "print(line)\n",
        "\n",
        "# ⑦出力例の図の赤い枠線部分をスライスで取り出し該当箇所内の最小値を求める\n",
        "red = m3[2:,1:-1]\n",
        "print('赤い枠線部分の最小値は',red.min() , 'です')\n",
        "print(red)"
      ]
    }
  ]
}